{
 "cells": [
  {
   "cell_type": "code",
   "execution_count": null,
   "metadata": {},
   "outputs": [],
   "source": [
    "import numpy as np  \n",
    "import random\n",
    "nlist=[]\n",
    "N = 437\n",
    "for i in range(1,N):\n",
    "    if np.gcd(N,i)==1:\n",
    "        nlist.append(i)\n",
    "                \n",
    "counter=0\n",
    "satisfy={}\n",
    "      \n",
    "for i in range(len(nlist)):\n",
    "    r=1;\n",
    "    while(1):\n",
    "        if (nlist[i]**r)%N==1:\n",
    "            if(r%2==0 and ((nlist[i]**int(r/2))%N != N-1)):\n",
    "                counter=counter+1\n",
    "                print(\"Order of\",nlist[i],\":\",r)\n",
    "                satisfy[nlist[i]]=r\n",
    "                a=np.gcd((nlist[i]**int(r/2)-1),N)\n",
    "                b=np.gcd((nlist[i]**int(r/2)+1),N)\n",
    "                print(\"Solutions of\",N,\":\",a, \"and\",b)\n",
    "                if(a*b==N):\n",
    "                    if (a != N and b!=N):\n",
    "                        print(\"Correct\\-------\")\n",
    "            break\n",
    "        r=r+1"
   ]
  },
  {
   "cell_type": "code",
   "execution_count": null,
   "metadata": {},
   "outputs": [],
   "source": []
  }
 ],
 "metadata": {
  "kernelspec": {
   "display_name": "Python 3",
   "language": "python",
   "name": "python3"
  },
  "language_info": {
   "codemirror_mode": {
    "name": "ipython",
    "version": 3
   },
   "file_extension": ".py",
   "mimetype": "text/x-python",
   "name": "python",
   "nbconvert_exporter": "python",
   "pygments_lexer": "ipython3",
   "version": "3.8.5"
  }
 },
 "nbformat": 4,
 "nbformat_minor": 4
}
